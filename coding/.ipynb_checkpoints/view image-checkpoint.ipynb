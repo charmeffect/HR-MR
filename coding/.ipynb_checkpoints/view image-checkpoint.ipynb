{
 "cells": [
  {
   "cell_type": "code",
   "execution_count": 1,
   "id": "ea65a2a9",
   "metadata": {},
   "outputs": [
    {
     "data": {
      "text/html": [
       "<style>.container { width:100% !important; }</style>"
      ],
      "text/plain": [
       "<IPython.core.display.HTML object>"
      ]
     },
     "metadata": {},
     "output_type": "display_data"
    }
   ],
   "source": [
    "from IPython.core.display import display, HTML\n",
    "display(HTML(\"<style>.container { width:100% !important; }</style>\"))"
   ]
  },
  {
   "cell_type": "code",
   "execution_count": 2,
   "id": "a6ed89a5",
   "metadata": {},
   "outputs": [],
   "source": [
    "from __future__ import print_function\n",
    "import SimpleITK as sitk\n",
    "\n",
    "import numpy as np\n",
    "import matplotlib.pyplot as plt\n",
    "\n",
    "%matplotlib notebook\n",
    "\n",
    "import gui\n",
    "import registration_gui as rgui\n",
    "import registration_utilities as ru # 사용 위치 확인\n",
    "import registration_callbacks as rc # 사용 위치 확인\n",
    "import utilities as util\n",
    "\n",
    "from ipywidgets import interact, fixed\n",
    "from IPython.display import clear_output\n",
    "import os"
   ]
  },
  {
   "cell_type": "code",
   "execution_count": 3,
   "id": "a57a6b06",
   "metadata": {},
   "outputs": [],
   "source": [
    "INPUT_DIR = 'SB-10241-1'\n",
    "OUTPUT_DIR = 'output'\n",
    "\n",
    "if OUTPUT_DIR not in os.listdir():\n",
    "    os.mkdir(OUTPUT_DIR)"
   ]
  },
  {
   "cell_type": "code",
   "execution_count": 4,
   "id": "03aa2771",
   "metadata": {},
   "outputs": [],
   "source": [
    "def resample_image(itk_image, out_spacing=(1.0, 1.0, 1.0)):\n",
    "    \"\"\"\n",
    "    Resample itk_image to new out_spacing\n",
    "    :param itk_image: the input image\n",
    "    :param out_spacing: the desired spacing\n",
    "    :return: the resampled image\n",
    "    \"\"\"\n",
    "    # get original spacing and size\n",
    "    original_spacing = itk_image.GetSpacing()\n",
    "    original_size = itk_image.GetSize()\n",
    "    # calculate new size\n",
    "    out_size = [\n",
    "        int(np.round(original_size[0] * (original_spacing[0] / out_spacing[0]))),\n",
    "        int(np.round(original_size[1] * (original_spacing[1] / out_spacing[1]))),\n",
    "        int(np.round(original_size[2] * (original_spacing[2] / out_spacing[2])))\n",
    "    ]\n",
    "    # instantiate resample filter with properties and execute it\n",
    "    resample = sitk.ResampleImageFilter()\n",
    "    resample.SetOutputSpacing(out_spacing)\n",
    "    resample.SetSize(out_size)\n",
    "    resample.SetOutputDirection(itk_image.GetDirection())\n",
    "    resample.SetOutputOrigin(itk_image.GetOrigin())\n",
    "    resample.SetTransform(sitk.Transform())\n",
    "    resample.SetDefaultPixelValue(itk_image.GetPixelIDValue())\n",
    "    resample.SetInterpolator(sitk.sitkNearestNeighbor)\n",
    "    return resample.Execute(itk_image)"
   ]
  },
  {
   "cell_type": "code",
   "execution_count": 10,
   "id": "b8ea0f08",
   "metadata": {},
   "outputs": [
    {
     "name": "stdout",
     "output_type": "stream",
     "text": [
      "['20160619230954', '20160919074927', '20170919192037']\n"
     ]
    }
   ],
   "source": [
    "times=[]\n",
    "for filename in input_files:\n",
    "    exp = filename.strip().split('.')[-1]\n",
    "    if exp not in 'nii':\n",
    "        continue\n",
    "        \n",
    "    time = filename.split('_')[1]\n",
    "    times.append(time)\n",
    "times=list(sorted(set(times)))\n",
    "print(times)"
   ]
  },
  {
   "cell_type": "code",
   "execution_count": 13,
   "id": "d0bcf658",
   "metadata": {},
   "outputs": [
    {
     "name": "stdout",
     "output_type": "stream",
     "text": [
      "SB-10241-1_20170919192037_T1 GD.nii\n",
      "SB-10241-1_20160919074927_MP RAGE.nii\n",
      "SB-10241-1_20160619230954_T1.nii\n",
      "SB-10241-1_20160619230954_TOF.nii\n",
      "SB-10241-1_20160919074927_PD.nii\n",
      "SB-10241-1_20160619230954_MP RAGE.nii\n",
      "SB-10241-1_20160619230954_T1 GD.nii\n",
      "SB-10241-1_20170919192037_TOF.nii\n",
      "SB-10241-1_20170919192037_T1.nii\n",
      "SB-10241-1_20160619230954_PD.nii\n",
      "SB-10241-1_20160919074927_T1.nii\n",
      "SB-10241-1_20160919074927_T1 GD.nii\n",
      "SB-10241-1_20170919192037_MP RAGE.nii\n",
      "SB-10241-1_20170919192037_PD.nii\n",
      "SB-10241-1_20160919074927_TOF.nii\n",
      "['SB102411']\n",
      "['20170919192037', '20160919074927', '20160619230954']\n",
      "['T1', 'TOF', 'PD', 'MPRAGE', 'T1GD']\n",
      "['i_SB102411_T1GD_3rd', 'i_SB102411_MPRAGE_2nd', 'i_SB102411_T1_1st', 'i_SB102411_TOF_1st', 'i_SB102411_PD_2nd', 'i_SB102411_MPRAGE_1st', 'i_SB102411_T1GD_1st', 'i_SB102411_TOF_3rd', 'i_SB102411_T1_3rd', 'i_SB102411_PD_1st', 'i_SB102411_T1_2nd', 'i_SB102411_T1GD_2nd', 'i_SB102411_MPRAGE_3rd', 'i_SB102411_PD_3rd', 'i_SB102411_TOF_2nd']\n"
     ]
    }
   ],
   "source": [
    "input_files = os.listdir(INPUT_DIR)\n",
    "\n",
    "pt_id = []\n",
    "ymdhm = []\n",
    "modality = []\n",
    "images = []\n",
    "\n",
    "for filename in input_files:\n",
    "    exp = filename.strip().split('.')[-1]\n",
    "    if exp not in 'nii':\n",
    "        continue\n",
    "    \n",
    "    new_pt_id = filename.strip().split('_')[0].replace('-','')\n",
    "    new_ymdhm = filename.strip().split('_')[1]\n",
    "    new_modality = filename.strip().replace('.','_').split('_')[2].replace(' ','')\n",
    "    \n",
    "    pt_id.append(new_pt_id)\n",
    "    ymdhm.append(new_ymdhm)\n",
    "    modality.append(new_modality)\n",
    "    \n",
    "    ymdhm=list(set(ymdhm))\n",
    "    #print(min(ymdhm))\n",
    "    #print(new_ymdhm)\n",
    "    if new_ymdhm == times[0]: \n",
    "        time='1st'\n",
    "    elif new_ymdhm == times[1]:\n",
    "        time='2nd'\n",
    "    else: time='3rd'\n",
    "    #print(time)\n",
    "    globals()['i_{0}_{1}_{2}'.format(new_pt_id, new_modality, time)] = sitk.ReadImage(INPUT_DIR+ '/' + filename)\n",
    "    images.append('i_{0}_{1}_{2}'.format(new_pt_id, new_modality, time))\n",
    "    #gui.MultiImageDisplay([image], figure_size=(8,4))\n",
    "    #print(filename)\n",
    "    \n",
    "pt_id=list(set(pt_id))\n",
    "ymdhm=list(set(ymdhm))\n",
    "modality=list(set(modality))\n",
    "print(pt_id)\n",
    "print(ymdhm)\n",
    "print(modality)\n",
    "print(images)"
   ]
  },
  {
   "cell_type": "code",
   "execution_count": null,
   "id": "d18def26",
   "metadata": {},
   "outputs": [],
   "source": []
  }
 ],
 "metadata": {
  "kernelspec": {
   "display_name": "Python 3 (ipykernel)",
   "language": "python",
   "name": "python3"
  },
  "language_info": {
   "codemirror_mode": {
    "name": "ipython",
    "version": 3
   },
   "file_extension": ".py",
   "mimetype": "text/x-python",
   "name": "python",
   "nbconvert_exporter": "python",
   "pygments_lexer": "ipython3",
   "version": "3.8.12"
  }
 },
 "nbformat": 4,
 "nbformat_minor": 5
}
